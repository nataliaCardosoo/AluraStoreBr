{
  "nbformat": 4,
  "nbformat_minor": 0,
  "metadata": {
    "colab": {
      "provenance": []
    },
    "kernelspec": {
      "name": "python3",
      "display_name": "Python 3"
    },
    "language_info": {
      "name": "python"
    }
  },
  "cells": [
    {
      "cell_type": "markdown",
      "source": [
        "### Importação dos dados\n",
        "\n"
      ],
      "metadata": {
        "id": "RhEdWd9YUR6H"
      }
    },
    {
      "cell_type": "code",
      "execution_count": 14,
      "metadata": {
        "colab": {
          "base_uri": "https://localhost:8080/",
          "height": 365
        },
        "id": "T3EvaeQ_INIL",
        "outputId": "cb2be44b-e0c7-4c2d-fd15-4cfdfd261e19"
      },
      "outputs": [
        {
          "output_type": "execute_result",
          "data": {
            "text/plain": [
              "                 Produto Categoria do Produto    Preço      Frete  \\\n",
              "0     Assistente virtual          eletronicos   219.08   9.249790   \n",
              "1         Mesa de jantar               moveis   256.35  11.234305   \n",
              "2      Jogo de tabuleiro           brinquedos   279.51  21.262681   \n",
              "3            Micro-ondas     eletrodomesticos  1009.99  54.667344   \n",
              "4  Cadeira de escritório               moveis   446.99  26.964689   \n",
              "\n",
              "  Data da Compra        Vendedor Local da compra  Avaliação da compra  \\\n",
              "0     16/01/2021     Pedro Gomes              SP                    4   \n",
              "1     18/05/2022  Beatriz Moraes              RJ                    1   \n",
              "2     15/03/2021      João Souza              DF                    1   \n",
              "3     03/05/2022      João Souza              RS                    4   \n",
              "4     07/11/2020   Larissa Alves              MG                    5   \n",
              "\n",
              "  Tipo de pagamento  Quantidade de parcelas    lat    lon  \n",
              "0    cartao_credito                       8 -22.19 -48.79  \n",
              "1    cartao_credito                       4 -22.25 -42.66  \n",
              "2    cartao_credito                       1 -15.83 -47.86  \n",
              "3            boleto                       1 -30.17 -53.50  \n",
              "4            boleto                       1 -18.10 -44.38  "
            ],
            "text/html": [
              "\n",
              "  <div id=\"df-2152cacc-9199-4f39-8cec-cef939c382e6\" class=\"colab-df-container\">\n",
              "    <div>\n",
              "<style scoped>\n",
              "    .dataframe tbody tr th:only-of-type {\n",
              "        vertical-align: middle;\n",
              "    }\n",
              "\n",
              "    .dataframe tbody tr th {\n",
              "        vertical-align: top;\n",
              "    }\n",
              "\n",
              "    .dataframe thead th {\n",
              "        text-align: right;\n",
              "    }\n",
              "</style>\n",
              "<table border=\"1\" class=\"dataframe\">\n",
              "  <thead>\n",
              "    <tr style=\"text-align: right;\">\n",
              "      <th></th>\n",
              "      <th>Produto</th>\n",
              "      <th>Categoria do Produto</th>\n",
              "      <th>Preço</th>\n",
              "      <th>Frete</th>\n",
              "      <th>Data da Compra</th>\n",
              "      <th>Vendedor</th>\n",
              "      <th>Local da compra</th>\n",
              "      <th>Avaliação da compra</th>\n",
              "      <th>Tipo de pagamento</th>\n",
              "      <th>Quantidade de parcelas</th>\n",
              "      <th>lat</th>\n",
              "      <th>lon</th>\n",
              "    </tr>\n",
              "  </thead>\n",
              "  <tbody>\n",
              "    <tr>\n",
              "      <th>0</th>\n",
              "      <td>Assistente virtual</td>\n",
              "      <td>eletronicos</td>\n",
              "      <td>219.08</td>\n",
              "      <td>9.249790</td>\n",
              "      <td>16/01/2021</td>\n",
              "      <td>Pedro Gomes</td>\n",
              "      <td>SP</td>\n",
              "      <td>4</td>\n",
              "      <td>cartao_credito</td>\n",
              "      <td>8</td>\n",
              "      <td>-22.19</td>\n",
              "      <td>-48.79</td>\n",
              "    </tr>\n",
              "    <tr>\n",
              "      <th>1</th>\n",
              "      <td>Mesa de jantar</td>\n",
              "      <td>moveis</td>\n",
              "      <td>256.35</td>\n",
              "      <td>11.234305</td>\n",
              "      <td>18/05/2022</td>\n",
              "      <td>Beatriz Moraes</td>\n",
              "      <td>RJ</td>\n",
              "      <td>1</td>\n",
              "      <td>cartao_credito</td>\n",
              "      <td>4</td>\n",
              "      <td>-22.25</td>\n",
              "      <td>-42.66</td>\n",
              "    </tr>\n",
              "    <tr>\n",
              "      <th>2</th>\n",
              "      <td>Jogo de tabuleiro</td>\n",
              "      <td>brinquedos</td>\n",
              "      <td>279.51</td>\n",
              "      <td>21.262681</td>\n",
              "      <td>15/03/2021</td>\n",
              "      <td>João Souza</td>\n",
              "      <td>DF</td>\n",
              "      <td>1</td>\n",
              "      <td>cartao_credito</td>\n",
              "      <td>1</td>\n",
              "      <td>-15.83</td>\n",
              "      <td>-47.86</td>\n",
              "    </tr>\n",
              "    <tr>\n",
              "      <th>3</th>\n",
              "      <td>Micro-ondas</td>\n",
              "      <td>eletrodomesticos</td>\n",
              "      <td>1009.99</td>\n",
              "      <td>54.667344</td>\n",
              "      <td>03/05/2022</td>\n",
              "      <td>João Souza</td>\n",
              "      <td>RS</td>\n",
              "      <td>4</td>\n",
              "      <td>boleto</td>\n",
              "      <td>1</td>\n",
              "      <td>-30.17</td>\n",
              "      <td>-53.50</td>\n",
              "    </tr>\n",
              "    <tr>\n",
              "      <th>4</th>\n",
              "      <td>Cadeira de escritório</td>\n",
              "      <td>moveis</td>\n",
              "      <td>446.99</td>\n",
              "      <td>26.964689</td>\n",
              "      <td>07/11/2020</td>\n",
              "      <td>Larissa Alves</td>\n",
              "      <td>MG</td>\n",
              "      <td>5</td>\n",
              "      <td>boleto</td>\n",
              "      <td>1</td>\n",
              "      <td>-18.10</td>\n",
              "      <td>-44.38</td>\n",
              "    </tr>\n",
              "  </tbody>\n",
              "</table>\n",
              "</div>\n",
              "    <div class=\"colab-df-buttons\">\n",
              "\n",
              "  <div class=\"colab-df-container\">\n",
              "    <button class=\"colab-df-convert\" onclick=\"convertToInteractive('df-2152cacc-9199-4f39-8cec-cef939c382e6')\"\n",
              "            title=\"Convert this dataframe to an interactive table.\"\n",
              "            style=\"display:none;\">\n",
              "\n",
              "  <svg xmlns=\"http://www.w3.org/2000/svg\" height=\"24px\" viewBox=\"0 -960 960 960\">\n",
              "    <path d=\"M120-120v-720h720v720H120Zm60-500h600v-160H180v160Zm220 220h160v-160H400v160Zm0 220h160v-160H400v160ZM180-400h160v-160H180v160Zm440 0h160v-160H620v160ZM180-180h160v-160H180v160Zm440 0h160v-160H620v160Z\"/>\n",
              "  </svg>\n",
              "    </button>\n",
              "\n",
              "  <style>\n",
              "    .colab-df-container {\n",
              "      display:flex;\n",
              "      gap: 12px;\n",
              "    }\n",
              "\n",
              "    .colab-df-convert {\n",
              "      background-color: #E8F0FE;\n",
              "      border: none;\n",
              "      border-radius: 50%;\n",
              "      cursor: pointer;\n",
              "      display: none;\n",
              "      fill: #1967D2;\n",
              "      height: 32px;\n",
              "      padding: 0 0 0 0;\n",
              "      width: 32px;\n",
              "    }\n",
              "\n",
              "    .colab-df-convert:hover {\n",
              "      background-color: #E2EBFA;\n",
              "      box-shadow: 0px 1px 2px rgba(60, 64, 67, 0.3), 0px 1px 3px 1px rgba(60, 64, 67, 0.15);\n",
              "      fill: #174EA6;\n",
              "    }\n",
              "\n",
              "    .colab-df-buttons div {\n",
              "      margin-bottom: 4px;\n",
              "    }\n",
              "\n",
              "    [theme=dark] .colab-df-convert {\n",
              "      background-color: #3B4455;\n",
              "      fill: #D2E3FC;\n",
              "    }\n",
              "\n",
              "    [theme=dark] .colab-df-convert:hover {\n",
              "      background-color: #434B5C;\n",
              "      box-shadow: 0px 1px 3px 1px rgba(0, 0, 0, 0.15);\n",
              "      filter: drop-shadow(0px 1px 2px rgba(0, 0, 0, 0.3));\n",
              "      fill: #FFFFFF;\n",
              "    }\n",
              "  </style>\n",
              "\n",
              "    <script>\n",
              "      const buttonEl =\n",
              "        document.querySelector('#df-2152cacc-9199-4f39-8cec-cef939c382e6 button.colab-df-convert');\n",
              "      buttonEl.style.display =\n",
              "        google.colab.kernel.accessAllowed ? 'block' : 'none';\n",
              "\n",
              "      async function convertToInteractive(key) {\n",
              "        const element = document.querySelector('#df-2152cacc-9199-4f39-8cec-cef939c382e6');\n",
              "        const dataTable =\n",
              "          await google.colab.kernel.invokeFunction('convertToInteractive',\n",
              "                                                    [key], {});\n",
              "        if (!dataTable) return;\n",
              "\n",
              "        const docLinkHtml = 'Like what you see? Visit the ' +\n",
              "          '<a target=\"_blank\" href=https://colab.research.google.com/notebooks/data_table.ipynb>data table notebook</a>'\n",
              "          + ' to learn more about interactive tables.';\n",
              "        element.innerHTML = '';\n",
              "        dataTable['output_type'] = 'display_data';\n",
              "        await google.colab.output.renderOutput(dataTable, element);\n",
              "        const docLink = document.createElement('div');\n",
              "        docLink.innerHTML = docLinkHtml;\n",
              "        element.appendChild(docLink);\n",
              "      }\n",
              "    </script>\n",
              "  </div>\n",
              "\n",
              "\n",
              "    <div id=\"df-35d85aae-7f86-468c-b23e-2c544f7d14df\">\n",
              "      <button class=\"colab-df-quickchart\" onclick=\"quickchart('df-35d85aae-7f86-468c-b23e-2c544f7d14df')\"\n",
              "                title=\"Suggest charts\"\n",
              "                style=\"display:none;\">\n",
              "\n",
              "<svg xmlns=\"http://www.w3.org/2000/svg\" height=\"24px\"viewBox=\"0 0 24 24\"\n",
              "     width=\"24px\">\n",
              "    <g>\n",
              "        <path d=\"M19 3H5c-1.1 0-2 .9-2 2v14c0 1.1.9 2 2 2h14c1.1 0 2-.9 2-2V5c0-1.1-.9-2-2-2zM9 17H7v-7h2v7zm4 0h-2V7h2v10zm4 0h-2v-4h2v4z\"/>\n",
              "    </g>\n",
              "</svg>\n",
              "      </button>\n",
              "\n",
              "<style>\n",
              "  .colab-df-quickchart {\n",
              "      --bg-color: #E8F0FE;\n",
              "      --fill-color: #1967D2;\n",
              "      --hover-bg-color: #E2EBFA;\n",
              "      --hover-fill-color: #174EA6;\n",
              "      --disabled-fill-color: #AAA;\n",
              "      --disabled-bg-color: #DDD;\n",
              "  }\n",
              "\n",
              "  [theme=dark] .colab-df-quickchart {\n",
              "      --bg-color: #3B4455;\n",
              "      --fill-color: #D2E3FC;\n",
              "      --hover-bg-color: #434B5C;\n",
              "      --hover-fill-color: #FFFFFF;\n",
              "      --disabled-bg-color: #3B4455;\n",
              "      --disabled-fill-color: #666;\n",
              "  }\n",
              "\n",
              "  .colab-df-quickchart {\n",
              "    background-color: var(--bg-color);\n",
              "    border: none;\n",
              "    border-radius: 50%;\n",
              "    cursor: pointer;\n",
              "    display: none;\n",
              "    fill: var(--fill-color);\n",
              "    height: 32px;\n",
              "    padding: 0;\n",
              "    width: 32px;\n",
              "  }\n",
              "\n",
              "  .colab-df-quickchart:hover {\n",
              "    background-color: var(--hover-bg-color);\n",
              "    box-shadow: 0 1px 2px rgba(60, 64, 67, 0.3), 0 1px 3px 1px rgba(60, 64, 67, 0.15);\n",
              "    fill: var(--button-hover-fill-color);\n",
              "  }\n",
              "\n",
              "  .colab-df-quickchart-complete:disabled,\n",
              "  .colab-df-quickchart-complete:disabled:hover {\n",
              "    background-color: var(--disabled-bg-color);\n",
              "    fill: var(--disabled-fill-color);\n",
              "    box-shadow: none;\n",
              "  }\n",
              "\n",
              "  .colab-df-spinner {\n",
              "    border: 2px solid var(--fill-color);\n",
              "    border-color: transparent;\n",
              "    border-bottom-color: var(--fill-color);\n",
              "    animation:\n",
              "      spin 1s steps(1) infinite;\n",
              "  }\n",
              "\n",
              "  @keyframes spin {\n",
              "    0% {\n",
              "      border-color: transparent;\n",
              "      border-bottom-color: var(--fill-color);\n",
              "      border-left-color: var(--fill-color);\n",
              "    }\n",
              "    20% {\n",
              "      border-color: transparent;\n",
              "      border-left-color: var(--fill-color);\n",
              "      border-top-color: var(--fill-color);\n",
              "    }\n",
              "    30% {\n",
              "      border-color: transparent;\n",
              "      border-left-color: var(--fill-color);\n",
              "      border-top-color: var(--fill-color);\n",
              "      border-right-color: var(--fill-color);\n",
              "    }\n",
              "    40% {\n",
              "      border-color: transparent;\n",
              "      border-right-color: var(--fill-color);\n",
              "      border-top-color: var(--fill-color);\n",
              "    }\n",
              "    60% {\n",
              "      border-color: transparent;\n",
              "      border-right-color: var(--fill-color);\n",
              "    }\n",
              "    80% {\n",
              "      border-color: transparent;\n",
              "      border-right-color: var(--fill-color);\n",
              "      border-bottom-color: var(--fill-color);\n",
              "    }\n",
              "    90% {\n",
              "      border-color: transparent;\n",
              "      border-bottom-color: var(--fill-color);\n",
              "    }\n",
              "  }\n",
              "</style>\n",
              "\n",
              "      <script>\n",
              "        async function quickchart(key) {\n",
              "          const quickchartButtonEl =\n",
              "            document.querySelector('#' + key + ' button');\n",
              "          quickchartButtonEl.disabled = true;  // To prevent multiple clicks.\n",
              "          quickchartButtonEl.classList.add('colab-df-spinner');\n",
              "          try {\n",
              "            const charts = await google.colab.kernel.invokeFunction(\n",
              "                'suggestCharts', [key], {});\n",
              "          } catch (error) {\n",
              "            console.error('Error during call to suggestCharts:', error);\n",
              "          }\n",
              "          quickchartButtonEl.classList.remove('colab-df-spinner');\n",
              "          quickchartButtonEl.classList.add('colab-df-quickchart-complete');\n",
              "        }\n",
              "        (() => {\n",
              "          let quickchartButtonEl =\n",
              "            document.querySelector('#df-35d85aae-7f86-468c-b23e-2c544f7d14df button');\n",
              "          quickchartButtonEl.style.display =\n",
              "            google.colab.kernel.accessAllowed ? 'block' : 'none';\n",
              "        })();\n",
              "      </script>\n",
              "    </div>\n",
              "\n",
              "    </div>\n",
              "  </div>\n"
            ],
            "application/vnd.google.colaboratory.intrinsic+json": {
              "type": "dataframe",
              "variable_name": "loja",
              "summary": "{\n  \"name\": \"loja\",\n  \"rows\": 2359,\n  \"fields\": [\n    {\n      \"column\": \"Produto\",\n      \"properties\": {\n        \"dtype\": \"category\",\n        \"num_unique_values\": 51,\n        \"samples\": [\n          \"Viol\\u00e3o\",\n          \"Bola de basquete\",\n          \"Smartwatch\"\n        ],\n        \"semantic_type\": \"\",\n        \"description\": \"\"\n      }\n    },\n    {\n      \"column\": \"Categoria do Produto\",\n      \"properties\": {\n        \"dtype\": \"category\",\n        \"num_unique_values\": 8,\n        \"samples\": [\n          \"moveis\",\n          \"esporte e lazer\",\n          \"eletronicos\"\n        ],\n        \"semantic_type\": \"\",\n        \"description\": \"\"\n      }\n    },\n    {\n      \"column\": \"Pre\\u00e7o\",\n      \"properties\": {\n        \"dtype\": \"number\",\n        \"std\": 819.5827782539145,\n        \"min\": 10.07,\n        \"max\": 3969.38,\n        \"num_unique_values\": 2315,\n        \"samples\": [\n          446.11,\n          107.31,\n          65.86\n        ],\n        \"semantic_type\": \"\",\n        \"description\": \"\"\n      }\n    },\n    {\n      \"column\": \"Frete\",\n      \"properties\": {\n        \"dtype\": \"number\",\n        \"std\": 43.814183327408166,\n        \"min\": 0.0,\n        \"max\": 214.3770604781,\n        \"num_unique_values\": 2149,\n        \"samples\": [\n          83.815279607,\n          16.069664669,\n          14.0344876928\n        ],\n        \"semantic_type\": \"\",\n        \"description\": \"\"\n      }\n    },\n    {\n      \"column\": \"Data da Compra\",\n      \"properties\": {\n        \"dtype\": \"object\",\n        \"num_unique_values\": 1018,\n        \"samples\": [\n          \"15/09/2022\",\n          \"03/06/2020\",\n          \"06/11/2021\"\n        ],\n        \"semantic_type\": \"\",\n        \"description\": \"\"\n      }\n    },\n    {\n      \"column\": \"Vendedor\",\n      \"properties\": {\n        \"dtype\": \"category\",\n        \"num_unique_values\": 14,\n        \"samples\": [\n          \"Juliana Costa\",\n          \"Mariana Ferreira\",\n          \"Pedro Gomes\"\n        ],\n        \"semantic_type\": \"\",\n        \"description\": \"\"\n      }\n    },\n    {\n      \"column\": \"Local da compra\",\n      \"properties\": {\n        \"dtype\": \"category\",\n        \"num_unique_values\": 26,\n        \"samples\": [\n          \"TO\",\n          \"RN\",\n          \"SP\"\n        ],\n        \"semantic_type\": \"\",\n        \"description\": \"\"\n      }\n    },\n    {\n      \"column\": \"Avalia\\u00e7\\u00e3o da compra\",\n      \"properties\": {\n        \"dtype\": \"number\",\n        \"std\": 1,\n        \"min\": 1,\n        \"max\": 5,\n        \"num_unique_values\": 5,\n        \"samples\": [\n          1,\n          2,\n          5\n        ],\n        \"semantic_type\": \"\",\n        \"description\": \"\"\n      }\n    },\n    {\n      \"column\": \"Tipo de pagamento\",\n      \"properties\": {\n        \"dtype\": \"category\",\n        \"num_unique_values\": 4,\n        \"samples\": [\n          \"boleto\",\n          \"cartao_debito\",\n          \"cartao_credito\"\n        ],\n        \"semantic_type\": \"\",\n        \"description\": \"\"\n      }\n    },\n    {\n      \"column\": \"Quantidade de parcelas\",\n      \"properties\": {\n        \"dtype\": \"number\",\n        \"std\": 2,\n        \"min\": 1,\n        \"max\": 24,\n        \"num_unique_values\": 15,\n        \"samples\": [\n          7,\n          14,\n          8\n        ],\n        \"semantic_type\": \"\",\n        \"description\": \"\"\n      }\n    },\n    {\n      \"column\": \"lat\",\n      \"properties\": {\n        \"dtype\": \"number\",\n        \"std\": 5.372399916530833,\n        \"min\": -30.17,\n        \"max\": 1.41,\n        \"num_unique_values\": 26,\n        \"samples\": [\n          -9.46,\n          -5.81,\n          -22.19\n        ],\n        \"semantic_type\": \"\",\n        \"description\": \"\"\n      }\n    },\n    {\n      \"column\": \"lon\",\n      \"properties\": {\n        \"dtype\": \"number\",\n        \"std\": 4.183180020544179,\n        \"min\": -70.55,\n        \"max\": -36.59,\n        \"num_unique_values\": 26,\n        \"samples\": [\n          -48.26,\n          -36.59,\n          -48.79\n        ],\n        \"semantic_type\": \"\",\n        \"description\": \"\"\n      }\n    }\n  ]\n}"
            }
          },
          "metadata": {},
          "execution_count": 14
        }
      ],
      "source": [
        "import pandas as pd\n",
        "\n",
        "url = \"https://raw.githubusercontent.com/alura-es-cursos/challenge1-data-science/refs/heads/main/base-de-dados-challenge-1/loja_1.csv\"\n",
        "url2 = \"https://raw.githubusercontent.com/alura-es-cursos/challenge1-data-science/refs/heads/main/base-de-dados-challenge-1/loja_2.csv\"\n",
        "url3 = \"https://raw.githubusercontent.com/alura-es-cursos/challenge1-data-science/refs/heads/main/base-de-dados-challenge-1/loja_3.csv\"\n",
        "url4 = \"https://raw.githubusercontent.com/alura-es-cursos/challenge1-data-science/refs/heads/main/base-de-dados-challenge-1/loja_4.csv\"\n",
        "\n",
        "loja = pd.read_csv(url)\n",
        "loja2 = pd.read_csv(url2)\n",
        "loja3 = pd.read_csv(url3)\n",
        "loja4 = pd.read_csv(url4)\n",
        "\n",
        "loja.head()"
      ]
    },
    {
      "cell_type": "markdown",
      "source": [
        "#1. Análise do faturamento\n"
      ],
      "metadata": {
        "id": "X62IW3KFUIYm"
      }
    },
    {
      "cell_type": "code",
      "source": [
        "# Calcular o faturamento total de cada loja\n",
        "faturamento_loja1 = loja['Preço'].sum()\n",
        "faturamento_loja2 = loja2['Preço'].sum()\n",
        "faturamento_loja3 = loja3['Preço'].sum()\n",
        "faturamento_loja4 = loja4['Preço'].sum()\n",
        "\n",
        "# Criar um DataFrame para comparar os faturamentos\n",
        "faturamentos = pd.DataFrame({\n",
        "    'Loja': ['Loja 1', 'Loja 2', 'Loja 3', 'Loja 4'],\n",
        "    'Faturamento': [faturamento_loja1, faturamento_loja2, faturamento_loja3, faturamento_loja4]\n",
        "})\n",
        "\n",
        "# Exibir os faturamentos\n",
        "print(\"Faturamento Total por Loja:\\n\")\n",
        "print(faturamentos.to_markdown(index=False, numalign=\"left\", stralign=\"left\"))"
      ],
      "metadata": {
        "id": "xykobSftV64I",
        "colab": {
          "base_uri": "https://localhost:8080/"
        },
        "outputId": "e13267e8-7f47-4ee0-8c08-68e22f310d60"
      },
      "execution_count": 16,
      "outputs": [
        {
          "output_type": "stream",
          "name": "stdout",
          "text": [
            "Faturamento Total por Loja:\n",
            "\n",
            "| Loja   | Faturamento   |\n",
            "|:-------|:--------------|\n",
            "| Loja 1 | 1.53451e+06   |\n",
            "| Loja 2 | 1.48846e+06   |\n",
            "| Loja 3 | 1.46403e+06   |\n",
            "| Loja 4 | 1.3845e+06    |\n"
          ]
        }
      ]
    },
    {
      "cell_type": "code",
      "source": [
        "# Gráfico de Barras: Faturamento Total por Loja\n",
        "plt.figure(figsize=(10, 6))\n",
        "sns.barplot(x='Loja', y='Faturamento', data=faturamentos)\n",
        "plt.title('Faturamento Total por Loja')\n",
        "plt.xlabel('Loja')\n",
        "plt.ylabel('Faturamento (R$)')\n",
        "plt.show()"
      ],
      "metadata": {
        "id": "KDyr8E71V3m-",
        "colab": {
          "base_uri": "https://localhost:8080/",
          "height": 564
        },
        "outputId": "88c80613-b2fc-4120-f6f3-49c5e8a67644"
      },
      "execution_count": 17,
      "outputs": [
        {
          "output_type": "display_data",
          "data": {
            "text/plain": [
              "<Figure size 1000x600 with 1 Axes>"
            ],
            "image/png": "[encoded data removed]"
          },
          "metadata": {}
        }
      ]
    },
    {
      "cell_type": "markdown",
      "source": [
        "# 2. Vendas por Categoria\n"
      ],
      "metadata": {
        "id": "2V_vcAPzWZmR"
      }
    },
    {
      "cell_type": "code",
      "source": [
        "# Calcular a quantidade de produtos vendidos por categoria em cada loja\n",
        "vendas_por_categoria_loja1 = loja.groupby('Categoria do Produto').size().reset_index(name='Quantidade')\n",
        "vendas_por_categoria_loja2 = loja2.groupby('Categoria do Produto').size().reset_index(name='Quantidade')\n",
        "vendas_por_categoria_loja3 = loja3.groupby('Categoria do Produto').size().reset_index(name='Quantidade')\n",
        "vendas_por_categoria_loja4 = loja4.groupby('Categoria do Produto').size().reset_index(name='Quantidade')\n",
        "\n",
        "# Adicionar uma coluna para identificar a loja em cada DataFrame\n",
        "vendas_por_categoria_loja1['Loja'] = 'Loja 1'\n",
        "vendas_por_categoria_loja2['Loja'] = 'Loja 2'\n",
        "vendas_por_categoria_loja3['Loja'] = 'Loja 3'\n",
        "vendas_por_categoria_loja4['Loja'] = 'Loja 4'\n",
        "\n",
        "# Concatenar os resultados em um único DataFrame para facilitar a comparação\n",
        "vendas_por_categoria = pd.concat([vendas_por_categoria_loja1, vendas_por_categoria_loja2, vendas_por_categoria_loja3, vendas_por_categoria_loja4])\n",
        "\n",
        "# Exibir os resultados\n",
        "print(\"Quantidade de Produtos Vendidos por Categoria em Cada Loja:\\n\")\n",
        "print(vendas_por_categoria.to_markdown(index=False, numalign=\"left\", stralign=\"left\"))\n",
        "\n"
      ],
      "metadata": {
        "id": "A34YupIuYhfF",
        "colab": {
          "base_uri": "https://localhost:8080/"
        },
        "outputId": "8b781a9e-5bb7-4802-b6bb-5cf770c6df74"
      },
      "execution_count": 18,
      "outputs": [
        {
          "output_type": "stream",
          "name": "stdout",
          "text": [
            "Quantidade de Produtos Vendidos por Categoria em Cada Loja:\n",
            "\n",
            "| Categoria do Produto   | Quantidade   | Loja   |\n",
            "|:-----------------------|:-------------|:-------|\n",
            "| brinquedos             | 324          | Loja 1 |\n",
            "| eletrodomesticos       | 312          | Loja 1 |\n",
            "| eletronicos            | 448          | Loja 1 |\n",
            "| esporte e lazer        | 284          | Loja 1 |\n",
            "| instrumentos musicais  | 182          | Loja 1 |\n",
            "| livros                 | 173          | Loja 1 |\n",
            "| moveis                 | 465          | Loja 1 |\n",
            "| utilidades domesticas  | 171          | Loja 1 |\n",
            "| brinquedos             | 313          | Loja 2 |\n",
            "| eletrodomesticos       | 305          | Loja 2 |\n",
            "| eletronicos            | 422          | Loja 2 |\n",
            "| esporte e lazer        | 275          | Loja 2 |\n",
            "| instrumentos musicais  | 224          | Loja 2 |\n",
            "| livros                 | 197          | Loja 2 |\n",
            "| moveis                 | 442          | Loja 2 |\n",
            "| utilidades domesticas  | 181          | Loja 2 |\n",
            "| brinquedos             | 315          | Loja 3 |\n",
            "| eletrodomesticos       | 278          | Loja 3 |\n",
            "| eletronicos            | 451          | Loja 3 |\n",
            "| esporte e lazer        | 277          | Loja 3 |\n",
            "| instrumentos musicais  | 177          | Loja 3 |\n",
            "| livros                 | 185          | Loja 3 |\n",
            "| moveis                 | 499          | Loja 3 |\n",
            "| utilidades domesticas  | 177          | Loja 3 |\n",
            "| brinquedos             | 338          | Loja 4 |\n",
            "| eletrodomesticos       | 254          | Loja 4 |\n",
            "| eletronicos            | 451          | Loja 4 |\n",
            "| esporte e lazer        | 277          | Loja 4 |\n",
            "| instrumentos musicais  | 170          | Loja 4 |\n",
            "| livros                 | 187          | Loja 4 |\n",
            "| moveis                 | 480          | Loja 4 |\n",
            "| utilidades domesticas  | 201          | Loja 4 |\n"
          ]
        }
      ]
    },
    {
      "cell_type": "code",
      "source": [
        "# Gráfico de Barras Agrupadas: Vendas por Categoria\n",
        "plt.figure(figsize=(14, 8))\n",
        "sns.barplot(x='Loja', y='Quantidade', hue='Categoria do Produto', data=vendas_por_categoria)\n",
        "plt.title('Vendas por Categoria em Cada Loja')\n",
        "plt.xlabel('Loja')\n",
        "plt.ylabel('Quantidade de Produtos Vendidos')\n",
        "plt.xticks(rotation=45)\n",
        "plt.legend(title='Categoria')\n",
        "plt.show()\n",
        "\n"
      ],
      "metadata": {
        "id": "yZR6cOjXYSk1",
        "colab": {
          "base_uri": "https://localhost:8080/",
          "height": 607
        },
        "outputId": "2e0e5d71-425a-4851-b388-23914d1a32a6"
      },
      "execution_count": 19,
      "outputs": [
        {
          "output_type": "display_data",
          "data": {
            "text/plain": [
              "<Figure size 1400x800 with 1 Axes>"
            ],
            "image/png": "[encoded data removed]"
          },
          "metadata": {}
        }
      ]
    },
    {
      "cell_type": "markdown",
      "source": [
        "# 3. Média de Avaliação das Lojas"
      ],
      "metadata": {
        "id": "Rq6tU_xSY3jk"
      }
    },
    {
      "cell_type": "code",
      "source": [
        "# Calcular a média das avaliações para cada loja\n",
        "media_avaliacoes_loja1 = loja['Avaliação da compra'].mean()\n",
        "media_avaliacoes_loja2 = loja2['Avaliação da compra'].mean()\n",
        "media_avaliacoes_loja3 = loja3['Avaliação da compra'].mean()\n",
        "media_avaliacoes_loja4 = loja4['Avaliação da compra'].mean()\n",
        "\n",
        "# Criar um DataFrame para comparar as médias das avaliações\n",
        "medias_avaliacoes = pd.DataFrame({\n",
        "    'Loja': ['Loja 1', 'Loja 2', 'Loja 3', 'Loja 4'],\n",
        "    'Média de Avaliação': [media_avaliacoes_loja1, media_avaliacoes_loja2, media_avaliacoes_loja3, media_avaliacoes_loja4]\n",
        "})\n",
        "\n",
        "# Exibir as médias das avaliações\n",
        "print(\"Média de Avaliação por Loja:\\n\")\n",
        "print(medias_avaliacoes.to_markdown(index=False, numalign=\"left\", stralign=\"left\"))"
      ],
      "metadata": {
        "id": "bh3jjjJwY5MU",
        "colab": {
          "base_uri": "https://localhost:8080/"
        },
        "outputId": "0746ad2d-e9ae-4ec3-be73-8b9e0404f8ca"
      },
      "execution_count": 20,
      "outputs": [
        {
          "output_type": "stream",
          "name": "stdout",
          "text": [
            "Média de Avaliação por Loja:\n",
            "\n",
            "| Loja   | Média de Avaliação   |\n",
            "|:-------|:---------------------|\n",
            "| Loja 1 | 3.97669              |\n",
            "| Loja 2 | 4.0373               |\n",
            "| Loja 3 | 4.04833              |\n",
            "| Loja 4 | 3.99576              |\n"
          ]
        }
      ]
    },
    {
      "cell_type": "code",
      "source": [
        "# Gráfico de Linhas: Média de Avaliação por Loja\n",
        "plt.figure(figsize=(8, 5))\n",
        "sns.lineplot(x='Loja', y='Média de Avaliação', data=medias_avaliacoes, marker='o')\n",
        "plt.title('Média de Avaliação por Loja')\n",
        "plt.xlabel('Loja')\n",
        "plt.ylabel('Média de Avaliação')\n",
        "plt.ylim(1, 5)\n",
        "plt.show()"
      ],
      "metadata": {
        "id": "I0KkjPoTY88F",
        "colab": {
          "base_uri": "https://localhost:8080/",
          "height": 488
        },
        "outputId": "1594709c-1c6e-4de9-b65a-81de99de27e6"
      },
      "execution_count": 21,
      "outputs": [
        {
          "output_type": "display_data",
          "data": {
            "text/plain": [
              "<Figure size 800x500 with 1 Axes>"
            ],
            "image/png": "[encoded data removed]"
          },
          "metadata": {}
        }
      ]
    },
    {
      "cell_type": "markdown",
      "source": [
        "# 4. Produtos Mais e Menos Vendidos"
      ],
      "metadata": {
        "id": "DmNp1KPBZCm-"
      }
    },
    {
      "cell_type": "code",
      "source": [
        "# Calcular os produtos mais e menos vendidos em cada loja\n",
        "mais_vendidos_loja1 = loja['Produto'].value_counts().head(5)\n",
        "menos_vendidos_loja1 = loja['Produto'].value_counts().tail(5)\n",
        "\n",
        "mais_vendidos_loja2 = loja2['Produto'].value_counts().head(5)\n",
        "menos_vendidos_loja2 = loja2['Produto'].value_counts().tail(5)\n",
        "\n",
        "mais_vendidos_loja3 = loja3['Produto'].value_counts().head(5)\n",
        "menos_vendidos_loja3 = loja3['Produto'].value_counts().tail(5)\n",
        "\n",
        "mais_vendidos_loja4 = loja4['Produto'].value_counts().head(5)\n",
        "menos_vendidos_loja4 = loja4['Produto'].value_counts().tail(5)\n",
        "\n",
        "# Criar DataFrames para facilitar a visualização\n",
        "def criar_df_produtos(mais_vendidos, menos_vendidos, loja_nome):\n",
        "    df_mais = pd.DataFrame({'Loja': [loja_nome] * len(mais_vendidos.index),\n",
        "                            'Produto': mais_vendidos.index,\n",
        "                            'Quantidade': mais_vendidos.values,\n",
        "                            'Tipo': ['Mais Vendido'] * len(mais_vendidos.index)})\n",
        "    df_menos = pd.DataFrame({'Loja': [loja_nome] * len(menos_vendidos.index),\n",
        "                             'Produto': menos_vendidos.index,\n",
        "                             'Quantidade': menos_vendidos.values,\n",
        "                             'Tipo': ['Menos Vendido'] * len(menos_vendidos.index)})\n",
        "    return pd.concat([df_mais, df_menos])\n",
        "\n",
        "df_produtos_loja1 = criar_df_produtos(mais_vendidos_loja1, menos_vendidos_loja1, 'Loja 1')\n",
        "df_produtos_loja2 = criar_df_produtos(mais_vendidos_loja2, menos_vendidos_loja2, 'Loja 2')\n",
        "df_produtos_loja3 = criar_df_produtos(mais_vendidos_loja3, menos_vendidos_loja3, 'Loja 3')\n",
        "df_produtos_loja4 = criar_df_produtos(mais_vendidos_loja4, menos_vendidos_loja4, 'Loja 4')\n",
        "\n",
        "# Concatenar todos os DataFrames\n",
        "df_produtos_todas_lojas = pd.concat([df_produtos_loja1, df_produtos_loja2, df_produtos_loja3, df_produtos_loja4])\n",
        "\n",
        "# Exibir os resultados\n",
        "print(\"Produtos Mais e Menos Vendidos por Loja:\\n\")\n",
        "print(df_produtos_todas_lojas.to_markdown(index=False, numalign=\"left\", stralign=\"left\"))\n"
      ],
      "metadata": {
        "id": "qoyjqijQZHfF",
        "colab": {
          "base_uri": "https://localhost:8080/"
        },
        "outputId": "b2f844a7-e8cf-4cfb-f54b-3d882d1b29a9"
      },
      "execution_count": 22,
      "outputs": [
        {
          "output_type": "stream",
          "name": "stdout",
          "text": [
            "Produtos Mais e Menos Vendidos por Loja:\n",
            "\n",
            "| Loja   | Produto                     | Quantidade   | Tipo          |\n",
            "|:-------|:----------------------------|:-------------|:--------------|\n",
            "| Loja 1 | Micro-ondas                 | 60           | Mais Vendido  |\n",
            "| Loja 1 | TV Led UHD 4K               | 60           | Mais Vendido  |\n",
            "| Loja 1 | Guarda roupas               | 60           | Mais Vendido  |\n",
            "| Loja 1 | Secadora de roupas          | 58           | Mais Vendido  |\n",
            "| Loja 1 | Cômoda                      | 56           | Mais Vendido  |\n",
            "| Loja 1 | Ciência de dados com python | 39           | Menos Vendido |\n",
            "| Loja 1 | Pandeiro                    | 36           | Menos Vendido |\n",
            "| Loja 1 | Panela de pressão           | 35           | Menos Vendido |\n",
            "| Loja 1 | Headset                     | 33           | Menos Vendido |\n",
            "| Loja 1 | Celular ABXY                | 33           | Menos Vendido |\n",
            "| Loja 2 | Iniciando em programação    | 65           | Mais Vendido  |\n",
            "| Loja 2 | Micro-ondas                 | 62           | Mais Vendido  |\n",
            "| Loja 2 | Bateria                     | 61           | Mais Vendido  |\n",
            "| Loja 2 | Violão                      | 58           | Mais Vendido  |\n",
            "| Loja 2 | Pandeiro                    | 58           | Mais Vendido  |\n",
            "| Loja 2 | Fone de ouvido              | 37           | Menos Vendido |\n",
            "| Loja 2 | Poltrona                    | 35           | Menos Vendido |\n",
            "| Loja 2 | Mesa de jantar              | 34           | Menos Vendido |\n",
            "| Loja 2 | Impressora                  | 34           | Menos Vendido |\n",
            "| Loja 2 | Jogo de tabuleiro           | 32           | Menos Vendido |\n",
            "| Loja 3 | Kit banquetas               | 57           | Mais Vendido  |\n",
            "| Loja 3 | Mesa de jantar              | 56           | Mais Vendido  |\n",
            "| Loja 3 | Cama king                   | 56           | Mais Vendido  |\n",
            "| Loja 3 | Jogo de panelas             | 55           | Mais Vendido  |\n",
            "| Loja 3 | Cômoda                      | 55           | Mais Vendido  |\n",
            "| Loja 3 | Guitarra                    | 38           | Menos Vendido |\n",
            "| Loja 3 | Jogo de copos               | 36           | Menos Vendido |\n",
            "| Loja 3 | Mochila                     | 36           | Menos Vendido |\n",
            "| Loja 3 | Micro-ondas                 | 36           | Menos Vendido |\n",
            "| Loja 3 | Blocos de montar            | 35           | Menos Vendido |\n",
            "| Loja 4 | Cama box                    | 62           | Mais Vendido  |\n",
            "| Loja 4 | Faqueiro                    | 59           | Mais Vendido  |\n",
            "| Loja 4 | Dashboards com Power BI     | 56           | Mais Vendido  |\n",
            "| Loja 4 | Cama king                   | 56           | Mais Vendido  |\n",
            "| Loja 4 | Carrinho controle remoto    | 55           | Mais Vendido  |\n",
            "| Loja 4 | Geladeira                   | 38           | Menos Vendido |\n",
            "| Loja 4 | Ciência de dados com python | 38           | Menos Vendido |\n",
            "| Loja 4 | Violão                      | 37           | Menos Vendido |\n",
            "| Loja 4 | Guarda roupas               | 34           | Menos Vendido |\n",
            "| Loja 4 | Guitarra                    | 33           | Menos Vendido |\n"
          ]
        }
      ]
    },
    {
      "cell_type": "code",
      "source": [],
      "metadata": {
        "id": "0Sw3sd4IZIGW"
      },
      "execution_count": 1,
      "outputs": []
    },
    {
      "cell_type": "markdown",
      "source": [
        "# 5. Frete Médio por Loja\n"
      ],
      "metadata": {
        "id": "Fl0cGi3bZKqU"
      }
    },
    {
      "cell_type": "code",
      "source": [
        "# Calcular o frete médio para cada loja\n",
        "frete_medio_loja1 = loja['Frete'].mean()\n",
        "frete_medio_loja2 = loja2['Frete'].mean()\n",
        "frete_medio_loja3 = loja3['Frete'].mean()\n",
        "frete_medio_loja4 = loja4['Frete'].mean()\n",
        "\n",
        "# Criar um DataFrame para comparar os fretes médios\n",
        "fretes_medios = pd.DataFrame({\n",
        "    'Loja': ['Loja 1', 'Loja 2', 'Loja 3', 'Loja 4'],\n",
        "    'Frete Médio': [frete_medio_loja1, frete_medio_loja2, frete_medio_loja3, frete_medio_loja4]\n",
        "})\n",
        "\n",
        "# Exibir os fretes médios\n",
        "print(\"Frete Médio por Loja:\\n\")\n",
        "print(fretes_medios.to_markdown(index=False, numalign=\"left\", stralign=\"left\"))"
      ],
      "metadata": {
        "id": "S2JeaCykZNy9",
        "colab": {
          "base_uri": "https://localhost:8080/"
        },
        "outputId": "48044daa-309f-4eb4-8d55-d1910172336d"
      },
      "execution_count": 23,
      "outputs": [
        {
          "output_type": "stream",
          "name": "stdout",
          "text": [
            "Frete Médio por Loja:\n",
            "\n",
            "| Loja   | Frete Médio   |\n",
            "|:-------|:--------------|\n",
            "| Loja 1 | 34.6918       |\n",
            "| Loja 2 | 33.6219       |\n",
            "| Loja 3 | 33.0745       |\n",
            "| Loja 4 | 31.279        |\n"
          ]
        }
      ]
    },
    {
      "cell_type": "code",
      "source": [
        "# Gráfico de Barras: Frete Médio por Loja\n",
        "plt.figure(figsize=(10, 6))\n",
        "sns.barplot(x='Loja', y='Frete Médio', data=fretes_medios)\n",
        "plt.title('Frete Médio por Loja')\n",
        "plt.xlabel('Loja')\n",
        "plt.ylabel('Frete Médio (R$)')\n",
        "plt.show()"
      ],
      "metadata": {
        "id": "0tSdCie9ZQlt",
        "colab": {
          "base_uri": "https://localhost:8080/",
          "height": 565
        },
        "outputId": "bae70ef3-6834-4c94-ed0c-5be02a9922ea"
      },
      "execution_count": 24,
      "outputs": [
        {
          "output_type": "display_data",
          "data": {
            "text/plain": [
              "<Figure size 1000x600 with 1 Axes>"
            ],
            "image/png": "[encoded data removed]"
          },
          "metadata": {}
        }
      ]
    }
  ]
}